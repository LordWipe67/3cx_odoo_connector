{
  "nbformat": 4,
  "nbformat_minor": 0,
  "metadata": {
    "colab": {
      "provenance": [],
      "toc_visible": true,
      "authorship_tag": "ABX9TyPTDnAMUpeS01SNpayr9rFB",
      "include_colab_link": true
    },
    "kernelspec": {
      "name": "python3",
      "display_name": "Python 3"
    },
    "language_info": {
      "name": "python"
    },
    "gpuClass": "standard"
  },
  "cells": [
    {
      "cell_type": "markdown",
      "metadata": {
        "id": "view-in-github",
        "colab_type": "text"
      },
      "source": [
        "<a href=\"https://colab.research.google.com/github/LordWipe67/3cx_odoo_connector/blob/main/machine_learning.ipynb\" target=\"_parent\"><img src=\"https://colab.research.google.com/assets/colab-badge.svg\" alt=\"Open In Colab\"/></a>"
      ]
    },
    {
      "cell_type": "code",
      "execution_count": null,
      "metadata": {
        "id": "Q5_Y-fAYN4AC"
      },
      "outputs": [],
      "source": [
        "# importa i pacchetti di base\n",
        "import numpy as np # Algebra\n",
        "import matplotlib.pyplot as plt #grafici\n",
        "import pandas as pd # manipolazione dei dati\n",
        "# importa il dataset chiamato MNIST ceh contiene 70.000 immagini di numeri scritti a mano\n",
        "from keras.datasets import mnist"
      ]
    },
    {
      "cell_type": "markdown",
      "source": [
        "**Caricamento del dataset MINST**"
      ],
      "metadata": {
        "id": "AJnQT5QEmpnp"
      }
    },
    {
      "cell_type": "code",
      "source": [
        "#carica i dati del dataset mninst nelle variabili X_train, y_train e X_test,y_test\n",
        "print(\"carica i dati del dataset mninst nelle variabili X_train, y_train e X_test,y_test\")\n",
        "(X_train,y_train),(X_test,y_test) = mnist.load_data()"
      ],
      "metadata": {
        "id": "YNeGqGW1On5t",
        "colab": {
          "base_uri": "https://localhost:8080/"
        },
        "outputId": "510a4033-73d4-4f27-ce0f-9a25ac98c9ec"
      },
      "execution_count": null,
      "outputs": [
        {
          "output_type": "stream",
          "name": "stdout",
          "text": [
            "carica i dati del dataset mninst nelle variabili X_train, y_train e X_test,y_test\n",
            "Downloading data from https://storage.googleapis.com/tensorflow/tf-keras-datasets/mnist.npz\n",
            "11490434/11490434 [==============================] - 0s 0us/step\n"
          ]
        }
      ]
    },
    {
      "cell_type": "markdown",
      "source": [
        "**Il Dataset MINST**"
      ],
      "metadata": {
        "id": "Ajgw7lIKtNte"
      }
    },
    {
      "cell_type": "markdown",
      "source": [
        "con il comando (X_train,y_train),(X_test,y_test) = mnist.load_data(), carichiamo immagini e indici di classe corrispondenti alle immagini.\n",
        "Le immagini di training sono depositate in X_train e gli indici di classe in y_train. In X_train ci sono solo immagini 28*28, in y_train ci sono solo numeri da 0 a 9 che indicano l'indice di classe corrispondente al numero rappresentato dall'immagine"
      ],
      "metadata": {
        "id": "XIou1PNttrSV"
      }
    },
    {
      "cell_type": "markdown",
      "source": [
        "**Esploro i dati di test**"
      ],
      "metadata": {
        "id": "LnjWS0UbXM19"
      }
    },
    {
      "cell_type": "markdown",
      "source": [
        "**indici di classe**"
      ],
      "metadata": {
        "id": "76biz7I9APRp"
      }
    },
    {
      "cell_type": "code",
      "source": [
        "print(\"Stampo la struttura degli indici di classe contenuti in y_train\")\n",
        "y_train.shape\n"
      ],
      "metadata": {
        "id": "ENnrzDVJPEjb"
      },
      "execution_count": null,
      "outputs": []
    },
    {
      "cell_type": "code",
      "source": [
        "print(\"Visualizzo i primi 10 numeri di y_train che identificano gli indici di classe (in realtà in totale soo 10000)\")\n",
        "y_train[0:10]"
      ],
      "metadata": {
        "id": "73afaRJfBAB3"
      },
      "execution_count": null,
      "outputs": []
    },
    {
      "cell_type": "code",
      "source": [
        "print(\"Stampo la struttura dei dati di training contenuti in X_train\")\n",
        "X_train.shape"
      ],
      "metadata": {
        "id": "wWwPPh98_j0A"
      },
      "execution_count": null,
      "outputs": []
    },
    {
      "cell_type": "code",
      "source": [
        "# rappresentazione del primo numero del dataset\n",
        "print(\"Carico e visualizzo il primo numero di training del dataset MINST\")\n",
        "# plt.imshow(X_train[1,4:12]) # stampa una parte del numero (dalla linea 4 alla linea 12)\n",
        "plt.imshow(X_train[1,:]) # Stampa tutto il numero\n",
        "plt.show()\n"
      ],
      "metadata": {
        "id": "HFBl3RRhQDKs"
      },
      "execution_count": null,
      "outputs": []
    },
    {
      "cell_type": "code",
      "source": [
        "print(\"Visualizzo il numero del set di train (contenuto in X_train) e il corrispondente indice di classe (contenuto in y_train)\")\n",
        "numero = 0\n",
        "plt.imshow(X_train[numero,:])\n",
        "plt.text(5, 5, str(y_train[numero]))\n",
        "plt.show()"
      ],
      "metadata": {
        "id": "YlxV-3JNSeXQ"
      },
      "execution_count": null,
      "outputs": []
    },
    {
      "cell_type": "code",
      "source": [
        "print(\"Visualizzo tutti i valori del primo numero in fromato numerico, i valori numerici sono le sfumature di colore dell'immagine sopra\")\n",
        "print(X_train[0,:])"
      ],
      "metadata": {
        "id": "zDpqi2jB0qHQ"
      },
      "execution_count": null,
      "outputs": []
    },
    {
      "cell_type": "code",
      "source": [
        "# rappresentazione dei primi 12 numeri scritti a mano presenti nel dataset MNIST\n",
        "for i in range(12):\n",
        "    plt.subplot(4,4,i+1)\n",
        "    plt.imshow(X_train[i,:])\n",
        "\n",
        "print(\"Visualizzo i primi 12 numeri di X_test del dataset MINST in formato grafico\")\n",
        "plt.show()"
      ],
      "metadata": {
        "id": "Jey-QjelPJtU"
      },
      "execution_count": null,
      "outputs": []
    },
    {
      "cell_type": "code",
      "source": [
        "# cambia la rappresentazione dell'immagine da matrice 28*28 a vettore di 784\n",
        "X_train_reshaped = X_train.reshape(60000,28*28)\n",
        "X_test_reshaped = X_test.reshape(10000,28*28)\n"
      ],
      "metadata": {
        "id": "JdfcSFTnQW7L"
      },
      "execution_count": null,
      "outputs": []
    },
    {
      "cell_type": "code",
      "source": [
        "print(\"Visualizzo il nuovo formato (60000 linee da 784 valori - sfumatore di colore)\")\n",
        "X_train_reshaped.shape\n",
        "# (60000, 784)"
      ],
      "metadata": {
        "id": "WroOtqwNXV5p"
      },
      "execution_count": null,
      "outputs": []
    },
    {
      "cell_type": "code",
      "source": [
        "print(\"Numeri univoci presenti in tutto il dataset MINST che rappresentano le sfumatore del colore del numero scritto a mano\")\n",
        "print(np.unique(X_train))\n"
      ],
      "metadata": {
        "id": "yJWk_m6VXOIN"
      },
      "execution_count": null,
      "outputs": []
    },
    {
      "cell_type": "code",
      "source": [
        "# visualizzo la truttura del vettore di train da 784\n",
        "print(\"La nuova struttura del dataset minst ridotta a un array 1D di 784 valori\")\n",
        "X_train_reshaped.shape"
      ],
      "metadata": {
        "id": "hNJMMdsaoZNY"
      },
      "execution_count": null,
      "outputs": []
    },
    {
      "cell_type": "code",
      "source": [
        "print(\"Massimo valore di tutto il dataset\")\n",
        "np.max(X_train_reshaped)"
      ],
      "metadata": {
        "id": "1F118639osva"
      },
      "execution_count": null,
      "outputs": []
    },
    {
      "cell_type": "code",
      "source": [
        "print(\"Minimo valore di tutto il dataset\")\n",
        "np.min(X_train_reshaped)"
      ],
      "metadata": {
        "id": "Q3BW0QBdo0Er"
      },
      "execution_count": null,
      "outputs": []
    },
    {
      "cell_type": "code",
      "source": [
        "# scalo i dati, dividento per il massimo per aumentare la velocità di convergenza\n",
        "X_train_scaled = X_train_reshaped/255\n",
        "X_test_scaled = X_test_reshaped/255\n",
        "np.max(X_train_scaled)"
      ],
      "metadata": {
        "id": "ZsTETLNgqWFW"
      },
      "execution_count": null,
      "outputs": []
    },
    {
      "cell_type": "code",
      "source": [
        "np.unique(y_train)\n",
        "len(np.unique(y_train))"
      ],
      "metadata": {
        "id": "YDGa993jqaRF"
      },
      "execution_count": null,
      "outputs": []
    },
    {
      "cell_type": "code",
      "source": [
        "# prendo i primi 5 indici di classe contenuti in y_train\n",
        "y_train[0:5]"
      ],
      "metadata": {
        "id": "MK6e_4v0rZo3"
      },
      "execution_count": null,
      "outputs": []
    },
    {
      "cell_type": "code",
      "source": [
        "# trasformiamo i dati presenti in y_train in una matrice\n",
        "# questo è il modo corretto per trattare un problema di classificazione\n",
        "# la prima modifica per migliorare il modello è convertire i dati in dammy variables\n",
        "y_train_dummies = pd.get_dummies(y_train)\n",
        "y_test_dummies = pd.get_dummies(y_test)\n",
        "y_train_dummies.shape"
      ],
      "metadata": {
        "colab": {
          "base_uri": "https://localhost:8080/"
        },
        "id": "pvu5fyUXqwJZ",
        "outputId": "4bb73a1c-088a-499e-a24a-a3bb24c2e958"
      },
      "execution_count": null,
      "outputs": [
        {
          "output_type": "execute_result",
          "data": {
            "text/plain": [
              "(60000, 10)"
            ]
          },
          "metadata": {},
          "execution_count": 5
        }
      ]
    },
    {
      "cell_type": "code",
      "source": [
        "# calcolo delle probabilità, questo fa la softmax sotto inserita\n",
        "# la funzione softmax da in uscita un solo valore come massima probabilità\n",
        "# se vogliamo costruire un modello che prevede le previsioni del tempo, dove ci possono essere in uscita più di un risultato\n",
        "# infatti in una giornata potrebbe essere parzialmente nuvoloso, quindi in uscita potremmo avere due probabilità\n",
        "# nuvoloso e soleggiato, in quel caso dovremmo utilizzare la funzione 'sigmoid' che prevede in uscita non una sola probabilità ma più di una\n",
        "vettore = [3,4,2]\n",
        "np.exp(2)/(np.exp(3)+np.exp(4)+np.exp(2))"
      ],
      "metadata": {
        "id": "QvwD3N3BuvWs"
      },
      "execution_count": null,
      "outputs": []
    },
    {
      "cell_type": "code",
      "source": [],
      "metadata": {
        "id": "ihPGnpdPZ3HX"
      },
      "execution_count": null,
      "outputs": []
    },
    {
      "cell_type": "markdown",
      "source": [
        "**Esploro i dati di test**"
      ],
      "metadata": {
        "id": "X1vhIplYZx5Q"
      }
    },
    {
      "cell_type": "code",
      "source": [
        "print(\"Visualizza le etichette di classe dell'array 'y_test' in realtà questi sono 10000 valori uno di seguito all'altro ma vengono visualizzati solo i primi e gli utltimi 3\")\n",
        "print(y_test)\n",
        "# [7 2 1 ... 4 5 6]"
      ],
      "metadata": {
        "id": "XjPnKaZlvIFJ"
      },
      "execution_count": null,
      "outputs": []
    },
    {
      "cell_type": "code",
      "source": [
        "print(\"Visualizza la struttura dell'array 'y_test'\")\n",
        "print(y_test.shape)\n",
        "# (10000,)"
      ],
      "metadata": {
        "id": "42oxUuEtYVjK"
      },
      "execution_count": null,
      "outputs": []
    },
    {
      "cell_type": "code",
      "source": [
        "print(\"Stampa la lunghezza di 'y_test'\")\n",
        "print(len(y_test))\n",
        "# 10000"
      ],
      "metadata": {
        "id": "yfIgslkIYU_z"
      },
      "execution_count": null,
      "outputs": []
    },
    {
      "cell_type": "code",
      "source": [
        "print(\"Visualizza i valori senza duplicati delle etichette di classe di tutto l'array 'y_test\")\n",
        "unique_vals = np.unique(y_test)\n",
        "print(unique_vals)\n",
        "print(\"Lunghezza 'y_test':\", len(y_test))\n",
        "# [0 1 2 3 4 5 6 7 8 9]"
      ],
      "metadata": {
        "id": "vgzEFivFYUsy"
      },
      "execution_count": null,
      "outputs": []
    },
    {
      "cell_type": "code",
      "source": [
        "print(\"Visualizza il primo numero [0] di y_test\")\n",
        "print(y_test[1])\n",
        "# 2"
      ],
      "metadata": {
        "id": "HKoR67lZYUWr"
      },
      "execution_count": null,
      "outputs": []
    },
    {
      "cell_type": "code",
      "source": [
        "print(\"Trasforma il dataset y_test in un dataframe pandas e visualizza le prime 5 righe\")\n",
        "df = pd.DataFrame(y_test)\n",
        "print(df.head()) # Stampa le prime 5 righe\n",
        "#    0\n",
        "# 0  7\n",
        "# 1  2\n",
        "# 2  1\n",
        "# 3  0\n",
        "# 4  4"
      ],
      "metadata": {
        "id": "-iHmj97NvH3e"
      },
      "execution_count": null,
      "outputs": []
    },
    {
      "cell_type": "code",
      "source": [
        "print(\"Visualizza la prima immagine di X_test\")\n",
        "plt.matshow(X_test[0])"
      ],
      "metadata": {
        "id": "5jpmwNuxXFl7"
      },
      "execution_count": null,
      "outputs": []
    },
    {
      "cell_type": "code",
      "source": [
        "print(\"Visualizzo la prima immagine di X_test in B/N\")\n",
        "plt.matshow(X_test[0], cmap='gray_r')\n",
        "plt.show()"
      ],
      "metadata": {
        "id": "dTq_0JIMXFXa"
      },
      "execution_count": null,
      "outputs": []
    },
    {
      "cell_type": "code",
      "source": [
        "print(\"Visualizzo i primi dieci numeri\")\n",
        "fig, axes = plt.subplots(1, 10) # 1 riga da 10 colonne\n",
        "for i in range(10):\n",
        "  axes[i].matshow(X_test[i], cmap='gray_r')\n",
        "plt.show()\n",
        "# per sistemare le immagini studiare https://github.com/MrDataScience/tutorials/blob/master/Data/MNIST/How%20To%20Plot%20MNIST%20Digits%20Using%20Matplotlib.ipynb\n"
      ],
      "metadata": {
        "id": "LnGN9XexXFId"
      },
      "execution_count": null,
      "outputs": []
    },
    {
      "cell_type": "code",
      "source": [
        "print(\"Visualizzo i primi dodici numeri di X_test\")\n",
        "for i in range(12):  \n",
        "  plt.subplot(1,12,i+1)\n",
        "  plt.imshow(X_test[i], cmap=plt.get_cmap('gray_r'))\n",
        "plt.show()"
      ],
      "metadata": {
        "id": "NKaqpcRmXE31"
      },
      "execution_count": null,
      "outputs": []
    },
    {
      "cell_type": "code",
      "source": [
        "print(\"Visualizzo i primi dodici numeri di X_test\")\n",
        "for i in range(12): \n",
        "    plt.subplot(4,4,i+1)\n",
        "    plt.imshow(X_test[i,:], cmap=plt.get_cmap('gray_r'))\n",
        "plt.show()"
      ],
      "metadata": {
        "id": "0ubUPPmkXEqL"
      },
      "execution_count": null,
      "outputs": []
    },
    {
      "cell_type": "code",
      "source": [
        "numero_classe = 2\n",
        "numeri = 10\n",
        "\n",
        "# Questo restituirà una lista di tutti gli indici in cui y_test ha il valore della classe\n",
        "inds = np.where(y_test == numero_classe)[0]\n",
        "\n",
        "# Prendi i primi 10 indici da questa lista per selezionare le prime 10 immagini della classe\n",
        "inds = inds[:numeri]\n",
        "\n",
        "# Seleziona le immagini corrispondenti in X_test utilizzando questi indici\n",
        "images = X_test[inds]\n",
        "\n",
        "# Visualizza le immagini utilizzando matplotlib.pyplot, proprio come hai fatto prima\n",
        "print(f\"Visualizzo i primi 10 numeri appartenenti alla classe {numero_classe} di X_test\")\n",
        "fig, axes = plt.subplots(1, numeri)\n",
        "for i in range(numeri):\n",
        "  axes[i].matshow(images[i], cmap='gray')\n",
        "plt.show()"
      ],
      "metadata": {
        "id": "jllg1oyNXEYy"
      },
      "execution_count": null,
      "outputs": []
    },
    {
      "cell_type": "markdown",
      "source": [
        "**********"
      ],
      "metadata": {
        "id": "XDLTRUzfXdQD"
      }
    },
    {
      "cell_type": "markdown",
      "source": [
        "**Creazione della rete neurale**"
      ],
      "metadata": {
        "id": "5CisR7NNpg06"
      }
    },
    {
      "cell_type": "code",
      "source": [
        "# pacchetti essenziali per costruire la rete neurale\n",
        "from keras.models import Sequential, load_model\n",
        "from keras.layers import Dense, Conv2D, Flatten, AveragePooling2D, Activation, Dropout\n",
        "from keras.callbacks import EarlyStopping, ModelCheckpoint\n"
      ],
      "metadata": {
        "id": "cZvbYa8MRNOc"
      },
      "execution_count": null,
      "outputs": []
    },
    {
      "cell_type": "code",
      "source": [
        "X_train_tensor = X_train_scaled.reshape(60000,28,28,1)\n",
        "X_test_tensor = X_test_scaled.reshape(10000,28,28,1)"
      ],
      "metadata": {
        "id": "Pc6cmPsimHLg"
      },
      "execution_count": null,
      "outputs": []
    },
    {
      "cell_type": "code",
      "source": [
        "model = Sequential()\n",
        "\n",
        "# # 1° layer\n",
        "# model.add(Dense(1000, input_shape=(784,)))\n",
        "# model.add(Activation('relu'))\n",
        "# model.add(Dropout(0.4))\n",
        "\n",
        "# # 2° layer\n",
        "# model.add(Dense(1000))\n",
        "# model.add(Activation('relu'))\n",
        "# model.add(Dropout(0.4))\n",
        "\n",
        "# # 3° layer di uscita\n",
        "# # model.add(Dense(1))\n",
        "# model.add(Dense(10))\n",
        "# model.add(Activation('softmax'))\n",
        "\n",
        "# 1° strato\n",
        "model.add(Conv2D(filters=24, kernel_size=(5,5),padding='same', activation='relu', input_shape=(28,28,1)))\n",
        "model.add(AveragePooling2D()) # passiamo da un'immagine 28x28 a 14x14\n",
        "\n",
        "# 2° starto\n",
        "model.add(Conv2D(filters=64, kernel_size=(5,5),padding='valid', activation='relu')) # l'immagine viene ridotta da 14x14 a 10x10\n",
        "model.add(AveragePooling2D()) # passiamo da un'immagine 10x10 a 5x5\n",
        "\n",
        "\n",
        "model.add(Flatten()) # converte la rete neurale da 2D a 1D\n",
        "\n",
        "# 3° strato\n",
        "model.add(Dense(units=480,activation='relu'))\n",
        "model.add(Dropout(0.5))\n",
        "# 4° strato\n",
        "model.add(Dense(units=336,activation='relu'))\n",
        "model.add(Dropout(0.5))\n",
        "\n",
        "# 5° strato d'uscita\n",
        "model.add(Dense(units=10,activation='softmax'))\n",
        "\n",
        "\n",
        "# model.compile(optimizer='adam', loss='mae', metrics=['mae'])\n",
        "model.compile(optimizer='adam', loss='categorical_crossentropy', metrics=['accuracy'])\n",
        "early_stopping_monitor = EarlyStopping(patience=5, monitor='val_accuracy')\n",
        "model_checkpoint_callback = ModelCheckpoint(filepath='best_model.hdf5',\n",
        "                                            monitor='val_accuracy',\n",
        "                                            mode='auto',\n",
        "                                            save_best_only=True,\n",
        "                                            verbose=1)\n",
        "# model.fit(X_train_scaled, y_train,\n",
        "#           validation_data=(X_test_scaled,y_test),\n",
        "#           epochs=10)\n",
        "history = model.fit(X_train_tensor, y_train_dummies,\n",
        "          validation_data=(X_test_tensor,y_test_dummies),\n",
        "          epochs=30,\n",
        "          callbacks=[early_stopping_monitor,model_checkpoint_callback])"
      ],
      "metadata": {
        "id": "5csYWjXwilkx"
      },
      "execution_count": null,
      "outputs": []
    },
    {
      "cell_type": "code",
      "source": [
        "# visualizzo graficamente l'andamento del training e dell'accuratezza nelle previsioni\n",
        "plt.plot(history.history['accuracy'], label='Training')\n",
        "plt.plot(history.history['val_accuracy'], label='Test')\n",
        "plt.grid()\n",
        "plt.legend()\n",
        "plt.xlabel('Numero di epoche')\n",
        "plt.ylabel('Accuratezza')\n",
        "plt.show()\n",
        "# questo andamento si chiama overfitting perchè l'accuratezza e il training ad un certo punto si separano\n",
        "# nella quarta lezione abbiamo ingrandito la rete e aumentato l'accuratezza della previsione"
      ],
      "metadata": {
        "id": "oxaAyxI_k3-Y"
      },
      "execution_count": null,
      "outputs": []
    },
    {
      "cell_type": "code",
      "source": [
        "from keras.models import load_model\n",
        "best_model = load_model('best_model.hdf5')\n",
        "# y_pred = np.around(model.predict(X_test_scaled))[:,0]\n",
        "# y_pred = np.argmax(model.predict(X_test_scaled), axis=1)\n",
        "y_pred = np.argmax(best_model.predict(X_test_tensor), axis=1)\n",
        "y_pred"
      ],
      "metadata": {
        "id": "_sbfTEST2GAA"
      },
      "execution_count": null,
      "outputs": []
    },
    {
      "cell_type": "code",
      "source": [
        "y_pred[0:10]"
      ],
      "metadata": {
        "id": "jlM3fzyKlDIH"
      },
      "execution_count": null,
      "outputs": []
    },
    {
      "cell_type": "code",
      "source": [
        "# questo rappresenta lo score\n",
        "np.mean(y_pred == y_test)"
      ],
      "metadata": {
        "id": "q8z8V3P9lScf"
      },
      "execution_count": null,
      "outputs": []
    },
    {
      "cell_type": "code",
      "source": [
        "plt.figure(figsize=(10,10))\n",
        "for i in range(24):\n",
        "  plt.subplot(6,4,i+1)\n",
        "  plt.imshow(X_test[i,:])\n",
        "  plt.title('Predicted:'+str(y_pred[i]))\n",
        "plt.tight_layout()\n",
        "plt.show()"
      ],
      "metadata": {
        "id": "s6H-ygZIfydN"
      },
      "execution_count": null,
      "outputs": []
    },
    {
      "cell_type": "code",
      "source": [
        "from sklearn.metrics import confusion_matrix\n",
        "confusion_matrix(y_test, y_pred)"
      ],
      "metadata": {
        "id": "oo63zmrFnwmH"
      },
      "execution_count": null,
      "outputs": []
    },
    {
      "cell_type": "code",
      "source": [
        "# da informazioni sul migliore modello salvato\n",
        "best_model.summary()"
      ],
      "metadata": {
        "id": "iGrEyxJkDocK"
      },
      "execution_count": null,
      "outputs": []
    },
    {
      "cell_type": "code",
      "source": [
        "input_dim = 784\n",
        "layer1_dim = 1000\n",
        "layer2_dim = 1000\n",
        "output_dim = 10\n",
        "\n",
        "parameter1 = input_dim*layer1_dim + layer1_dim\n",
        "print(parameter1)\n",
        "\n",
        "parameter2 = layer1_dim*layer2_dim + layer2_dim\n",
        "print(parameter2)\n",
        "\n",
        "parameter3 = layer2_dim*output_dim + output_dim\n",
        "print(parameter3)\n",
        "\n",
        "parameter1+parameter2+parameter3"
      ],
      "metadata": {
        "id": "WDWu8WjNEpeS"
      },
      "execution_count": null,
      "outputs": []
    },
    {
      "cell_type": "code",
      "source": [],
      "metadata": {
        "id": "jKApU_RMFjWo"
      },
      "execution_count": null,
      "outputs": []
    }
  ]
}